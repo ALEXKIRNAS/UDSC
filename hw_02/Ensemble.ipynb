{
 "cells": [
  {
   "cell_type": "code",
   "execution_count": null,
   "metadata": {},
   "outputs": [],
   "source": [
    "import numpy as np\n",
    "import pandas as pd\n",
    "from collections import defaultdict\n",
    "from sklearn.metrics import roc_auc_score\n",
    "from sklearn.model_selection import train_test_split"
   ]
  },
  {
   "cell_type": "code",
   "execution_count": null,
   "metadata": {},
   "outputs": [],
   "source": [
    "train_lr = pd.read_csv('./train_nb_logistic_regression_010.csv')\n",
    "train_gru = pd.read_csv('./train_gru_035.csv')\n",
    "train_lstm = pd.read_csv('./train_lstm_023.csv')\n",
    "\n",
    "train_dict = {\n",
    "    'logistic_regression': train_lr,\n",
    "    'gru': train_gru,\n",
    "    'lstm': train_lstm,\n",
    "}"
   ]
  },
  {
   "cell_type": "code",
   "execution_count": null,
   "metadata": {},
   "outputs": [],
   "source": [
    "val_lr = pd.read_csv('./submission_nb_logistic_regression_010.csv')\n",
    "val_gru = pd.read_csv('./submission_gru_035.csv')\n",
    "val_lstm = pd.read_csv('./submission_lstm_023.csv')\n",
    "\n",
    "val_dict = {\n",
    "    'logistic_regression': val_lr,\n",
    "    'gru': val_gru,\n",
    "    'lstm': val_lstm,\n",
    "}"
   ]
  },
  {
   "cell_type": "code",
   "execution_count": null,
   "metadata": {},
   "outputs": [],
   "source": [
    "train_targets = pd.read_csv('./input/train.csv')"
   ]
  },
  {
   "cell_type": "code",
   "execution_count": null,
   "metadata": {},
   "outputs": [],
   "source": [
    "coly = [c for c in val_lr.columns if c not in ['id']]"
   ]
  },
  {
   "cell_type": "code",
   "execution_count": null,
   "metadata": {},
   "outputs": [],
   "source": [
    "def _item():\n",
    "    return (0., [])\n",
    "\n",
    "def coef_seacrh_recursive(col_name, \n",
    "                          models, \n",
    "                          prev_coefs=[], \n",
    "                          coef_dict=defaultdict(_item), \n",
    "                          cum_pred=None):\n",
    "    \n",
    "    left_coefs = 1 - sum(prev_coefs + [0.])\n",
    "    _, X_test, _, y_test = train_test_split(train_dict[models[-1]][col_name], \n",
    "                                            train_targets[col_name], \n",
    "                                            test_size=0.2, \n",
    "                                            random_state=0xCAFFE)\n",
    "    \n",
    "    X_test = np.clip(X_test, 1e-3, 1 - 1e-3)\n",
    "    \n",
    "    if cum_pred is None:\n",
    "        cum_pred = np.zeros_like(X_test)\n",
    "        \n",
    "    if len(models) == 1:\n",
    "            curr_pred = cum_pred + left_coefs * X_test\n",
    "            score = roc_auc_score(y_test, curr_pred)\n",
    "            \n",
    "            if coef_dict[col_name][0] < score:\n",
    "                coef_dict[col_name] = (score, prev_coefs + [left_coefs])\n",
    "            \n",
    "            return coef_dict\n",
    "    else:\n",
    "        for coef in np.arange(0., left_coefs + 0.01, 0.01):\n",
    "            curr_pred = cum_pred + coef * X_test\n",
    "            coef_seacrh_recursive(col_name, \n",
    "                                  models[:-1], \n",
    "                                  prev_coefs + [coef],\n",
    "                                  coef_dict,\n",
    "                                  curr_pred)"
   ]
  },
  {
   "cell_type": "code",
   "execution_count": null,
   "metadata": {
    "scrolled": false
   },
   "outputs": [],
   "source": [
    "coef_dict = defaultdict(_item)\n",
    "scores = []\n",
    "for col_name in coly:\n",
    "    coef_seacrh_recursive(col_name, list(train_dict.keys()), coef_dict=coef_dict)\n",
    "    print('%s:' % col_name)\n",
    "    print('\\tROC-AUC: %s' % coef_dict[col_name][0])\n",
    "    for idx, name in enumerate(train_dict.keys()):\n",
    "        print('\\t\\t%s - %s' % (name, coef_dict[col_name][1][idx]))\n",
    "    scores.append(coef_dict[col_name][0])\n",
    "print('Total score: %s' % np.mean(scores))"
   ]
  },
  {
   "cell_type": "code",
   "execution_count": null,
   "metadata": {},
   "outputs": [],
   "source": [
    "coef_dict"
   ]
  },
  {
   "cell_type": "code",
   "execution_count": null,
   "metadata": {},
   "outputs": [],
   "source": [
    "test = pd.read_csv('./input/test.csv').fillna('Unknown')\n",
    "submission = pd.DataFrame.from_dict({'id': test['id']})"
   ]
  },
  {
   "cell_type": "code",
   "execution_count": null,
   "metadata": {},
   "outputs": [],
   "source": [
    "for col_name in coly:\n",
    "    cum_sum = None\n",
    "    for idx, name in enumerate(train_dict.keys()):\n",
    "        add = np.clip(val_dict[name][col_name], 1e-3, 1 - 1e-3) * coef_dict[col_name][1][idx]\n",
    "        if cum_sum is None:\n",
    "            cum_sum = add\n",
    "        else:\n",
    "            cum_sum += add\n",
    "    \n",
    "    submission[col_name] = np.clip(cum_sum, 1e-3, 1 - 1e-3)"
   ]
  },
  {
   "cell_type": "code",
   "execution_count": null,
   "metadata": {},
   "outputs": [],
   "source": [
    "submission.to_csv('ensemble_004.csv', index=False)"
   ]
  },
  {
   "cell_type": "code",
   "execution_count": null,
   "metadata": {},
   "outputs": [],
   "source": []
  }
 ],
 "metadata": {
  "kernelspec": {
   "display_name": "Python 3",
   "language": "python",
   "name": "python3"
  },
  "language_info": {
   "codemirror_mode": {
    "name": "ipython",
    "version": 3
   },
   "file_extension": ".py",
   "mimetype": "text/x-python",
   "name": "python",
   "nbconvert_exporter": "python",
   "pygments_lexer": "ipython3",
   "version": "3.5.2"
  }
 },
 "nbformat": 4,
 "nbformat_minor": 2
}
